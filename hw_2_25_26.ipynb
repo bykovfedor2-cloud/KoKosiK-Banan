{
 "cells": [
  {
   "cell_type": "code",
   "execution_count": null,
   "id": "7c00567f",
   "metadata": {},
   "outputs": [
    {
     "name": "stdout",
     "output_type": "stream",
     "text": [
      "0\n"
     ]
    }
   ],
   "source": [
    "### Упражнение 3.3. \n",
    "with open('input.txt', 'r', encoding='utf-8') as file:\n",
    "    text = file.read()\n",
    "\n",
    "sentence_count = 0\n",
    "inside_sentence = False\n",
    "\n",
    "for char in text:\n",
    "    if char.isalpha():  \n",
    "        inside_sentence = True\n",
    "    elif char in '.!?' and inside_sentence:\n",
    "        sentence_count += 1\n",
    "        inside_sentence = False\n",
    "\n",
    "if inside_sentence:\n",
    "    sentence_count += 1\n",
    "\n",
    "print(sentence_count)"
   ]
  },
  {
   "cell_type": "code",
   "execution_count": 28,
   "id": "b4df414d",
   "metadata": {},
   "outputs": [
    {
     "name": "stdout",
     "output_type": "stream",
     "text": [
      "Число 8 найдено на позиции 3 \n"
     ]
    }
   ],
   "source": [
    "#Задание №1.3\n",
    "def find_position(A, x):\n",
    "    for i in range(len(arr)):\n",
    "        if arr[i] == x:\n",
    "            return i\n",
    "    return -1\n",
    "A = [5, 2, 8, 1, 9, 3, 8]\n",
    "x = 8\n",
    "\n",
    "position = find_position(A, x)\n",
    "\n",
    "if position != -1:\n",
    "    print(f\"Число {x} найдено на позиции {position+1} \")\n",
    "else:\n",
    "    print(f\"Число {x} не найдено в массиве\")"
   ]
  },
  {
   "cell_type": "code",
   "execution_count": null,
   "id": "002d28bd",
   "metadata": {},
   "outputs": [],
   "source": [
    "#Задание №1.4\n",
    "n = int(input())\n",
    "def factorize(n):\n",
    "\n",
    "    if n < 2:\n",
    "        return {n: 1}\n",
    "    \n",
    "    factors = {}\n",
    "    divisor = 2\n",
    "    \n",
    "    while divisor * divisor <= n:\n",
    "        while n % divisor == 0:\n",
    "            factors[divisor] = factors.get(divisor, 0) + 1\n",
    "            n //= divisor\n",
    "        divisor += 1\n",
    "    \n",
    "    if n > 1:\n",
    "        factors[n] = factors.get(n, 0) + 1\n",
    "    \n",
    "    return factors\n",
    "print(factorize(n))"
   ]
  },
  {
   "cell_type": "code",
   "execution_count": 10,
   "id": "ef345be8",
   "metadata": {},
   "outputs": [],
   "source": [
    "#Задание №2.1\n",
    "# Чтение данных из файла\n",
    "with open('input.txt', 'r') as file:\n",
    "    numbers_line = file.readline()\n",
    "    operator = file.readline()\n",
    "\n",
    "# Преобразуем строку с числами в список целых чисел\n",
    "numbers = list(map(int, numbers_line.split()))\n",
    "\n",
    "# Выполняем операцию в зависимости от оператора\n",
    "if operator == '+':\n",
    "    result = sum(numbers)\n",
    "elif operator == '-':\n",
    "    result = numbers[0] - sum(numbers[1:])\n",
    "elif operator == '*':\n",
    "    result = 1\n",
    "    for num in numbers:\n",
    "        result *= num\n",
    "else:\n",
    "    result = \"Неизвестная операция\"\n",
    "\n",
    "# Записываем результат в файл\n",
    "with open('output.txt', 'w') as file:\n",
    "    file.write(str(result))\n"
   ]
  },
  {
   "cell_type": "code",
   "execution_count": 15,
   "id": "5548eda0",
   "metadata": {},
   "outputs": [
    {
     "ename": "KeyboardInterrupt",
     "evalue": "Interrupted by user",
     "output_type": "error",
     "traceback": [
      "\u001b[31m---------------------------------------------------------------------------\u001b[39m",
      "\u001b[31mKeyboardInterrupt\u001b[39m                         Traceback (most recent call last)",
      "\u001b[36mCell\u001b[39m\u001b[36m \u001b[39m\u001b[32mIn[15]\u001b[39m\u001b[32m, line 2\u001b[39m\n\u001b[32m      1\u001b[39m \u001b[38;5;66;03m#Задание №2.2\u001b[39;00m\n\u001b[32m----> \u001b[39m\u001b[32m2\u001b[39m N=\u001b[38;5;28mint\u001b[39m(\u001b[38;5;28;43minput\u001b[39;49m\u001b[43m(\u001b[49m\u001b[43m)\u001b[49m)\n\u001b[32m      3\u001b[39m \u001b[38;5;66;03m# Создается список из значений от 0 до N включительно\u001b[39;00m\n\u001b[32m      4\u001b[39m primes = [i \u001b[38;5;28;01mfor\u001b[39;00m i \u001b[38;5;129;01min\u001b[39;00m \u001b[38;5;28mrange\u001b[39m(N + \u001b[32m1\u001b[39m)]\n",
      "\u001b[36mFile \u001b[39m\u001b[32m~\\AppData\\Roaming\\Python\\Python313\\site-packages\\ipykernel\\kernelbase.py:1275\u001b[39m, in \u001b[36mKernel.raw_input\u001b[39m\u001b[34m(self, prompt)\u001b[39m\n\u001b[32m   1273\u001b[39m     msg = \u001b[33m\"\u001b[39m\u001b[33mraw_input was called, but this frontend does not support input requests.\u001b[39m\u001b[33m\"\u001b[39m\n\u001b[32m   1274\u001b[39m     \u001b[38;5;28;01mraise\u001b[39;00m StdinNotImplementedError(msg)\n\u001b[32m-> \u001b[39m\u001b[32m1275\u001b[39m \u001b[38;5;28;01mreturn\u001b[39;00m \u001b[38;5;28;43mself\u001b[39;49m\u001b[43m.\u001b[49m\u001b[43m_input_request\u001b[49m\u001b[43m(\u001b[49m\n\u001b[32m   1276\u001b[39m \u001b[43m    \u001b[49m\u001b[38;5;28;43mstr\u001b[39;49m\u001b[43m(\u001b[49m\u001b[43mprompt\u001b[49m\u001b[43m)\u001b[49m\u001b[43m,\u001b[49m\n\u001b[32m   1277\u001b[39m \u001b[43m    \u001b[49m\u001b[38;5;28;43mself\u001b[39;49m\u001b[43m.\u001b[49m\u001b[43m_parent_ident\u001b[49m\u001b[43m[\u001b[49m\u001b[33;43m\"\u001b[39;49m\u001b[33;43mshell\u001b[39;49m\u001b[33;43m\"\u001b[39;49m\u001b[43m]\u001b[49m\u001b[43m,\u001b[49m\n\u001b[32m   1278\u001b[39m \u001b[43m    \u001b[49m\u001b[38;5;28;43mself\u001b[39;49m\u001b[43m.\u001b[49m\u001b[43mget_parent\u001b[49m\u001b[43m(\u001b[49m\u001b[33;43m\"\u001b[39;49m\u001b[33;43mshell\u001b[39;49m\u001b[33;43m\"\u001b[39;49m\u001b[43m)\u001b[49m\u001b[43m,\u001b[49m\n\u001b[32m   1279\u001b[39m \u001b[43m    \u001b[49m\u001b[43mpassword\u001b[49m\u001b[43m=\u001b[49m\u001b[38;5;28;43;01mFalse\u001b[39;49;00m\u001b[43m,\u001b[49m\n\u001b[32m   1280\u001b[39m \u001b[43m\u001b[49m\u001b[43m)\u001b[49m\n",
      "\u001b[36mFile \u001b[39m\u001b[32m~\\AppData\\Roaming\\Python\\Python313\\site-packages\\ipykernel\\kernelbase.py:1320\u001b[39m, in \u001b[36mKernel._input_request\u001b[39m\u001b[34m(self, prompt, ident, parent, password)\u001b[39m\n\u001b[32m   1317\u001b[39m \u001b[38;5;28;01mexcept\u001b[39;00m \u001b[38;5;167;01mKeyboardInterrupt\u001b[39;00m:\n\u001b[32m   1318\u001b[39m     \u001b[38;5;66;03m# re-raise KeyboardInterrupt, to truncate traceback\u001b[39;00m\n\u001b[32m   1319\u001b[39m     msg = \u001b[33m\"\u001b[39m\u001b[33mInterrupted by user\u001b[39m\u001b[33m\"\u001b[39m\n\u001b[32m-> \u001b[39m\u001b[32m1320\u001b[39m     \u001b[38;5;28;01mraise\u001b[39;00m \u001b[38;5;167;01mKeyboardInterrupt\u001b[39;00m(msg) \u001b[38;5;28;01mfrom\u001b[39;00m\u001b[38;5;250m \u001b[39m\u001b[38;5;28;01mNone\u001b[39;00m\n\u001b[32m   1321\u001b[39m \u001b[38;5;28;01mexcept\u001b[39;00m \u001b[38;5;167;01mException\u001b[39;00m:\n\u001b[32m   1322\u001b[39m     \u001b[38;5;28mself\u001b[39m.log.warning(\u001b[33m\"\u001b[39m\u001b[33mInvalid Message:\u001b[39m\u001b[33m\"\u001b[39m, exc_info=\u001b[38;5;28;01mTrue\u001b[39;00m)\n",
      "\u001b[31mKeyboardInterrupt\u001b[39m: Interrupted by user"
     ]
    }
   ],
   "source": [
    "#Задание №2.2\n",
    "N=int(input())\n",
    "# Создается список из значений от 0 до N включительно\n",
    "primes = [i for i in range(N + 1)]\n",
    "\n",
    "# Вторым элементом списка является единица, которую\n",
    "# не считают простым числом. Забиваем ее нулем\n",
    "primes[1] = 0\n",
    "\n",
    "# Начинаем с 3-го элемента\n",
    "i = 2\n",
    "while i <= N:\n",
    "    if primes[i] != 0:\n",
    "        j=i+i\n",
    "        while j <= N:\n",
    "            primes[j] = 0\n",
    "            j = j +i\n",
    "    i += 1\n",
    "\n",
    "primes = [i for i in primes if i != 0]\n",
    "print(primes)"
   ]
  },
  {
   "cell_type": "code",
   "execution_count": 23,
   "id": "8e17e5bb",
   "metadata": {},
   "outputs": [
    {
     "name": "stdout",
     "output_type": "stream",
     "text": [
      "[2, 1]\n"
     ]
    }
   ],
   "source": [
    "#Упражнение 4\n",
    "n=int(input())\n",
    "A=[0]*n\n",
    "for i in range(len(A)):\n",
    "    A[i]=int(input())\n",
    "def swap_neighbors(arr):\n",
    "    arr[::2], arr[1::2] = arr[1::2], arr[::2]\n",
    "    return arr\n",
    "print(swap_neighbors(A))"
   ]
  },
  {
   "cell_type": "code",
   "execution_count": 30,
   "id": "ced846a4",
   "metadata": {},
   "outputs": [
    {
     "name": "stdout",
     "output_type": "stream",
     "text": [
      "[3, 1, 2]\n"
     ]
    }
   ],
   "source": [
    "#Упражнение 5\n",
    "n=int(input())\n",
    "A=[0]*n\n",
    "for i in range(len(A)):\n",
    "    A[i]=int(input())\n",
    "def swaga_right(lst):\n",
    "    return [lst[-1]] + lst[:-1]\n",
    "print(swaga_right(A))"
   ]
  },
  {
   "cell_type": "code",
   "execution_count": 34,
   "id": "581f9cfc",
   "metadata": {},
   "outputs": [],
   "source": [
    "#Упражнение 6\n",
    "n=int(input())\n",
    "A=[0]*n\n",
    "for i in range(len(A)):\n",
    "    A[i]=int(input())\n",
    "for i in A:\n",
    "    ckolko=A.count(i)\n",
    "    if ckolko==1:\n",
    "        print(i)"
   ]
  },
  {
   "cell_type": "code",
   "execution_count": 43,
   "id": "017d64ce",
   "metadata": {},
   "outputs": [
    {
     "name": "stdout",
     "output_type": "stream",
     "text": [
      "1\n"
     ]
    }
   ],
   "source": [
    "#Упражнение 7\n",
    "n=int(input())\n",
    "A=[0]*n\n",
    "for i in range(len(A)):\n",
    "    A[i]=int(input())\n",
    "def dofigachasto(lst):\n",
    "    if not lst:\n",
    "        return None\n",
    "    count = {}\n",
    "    for x in lst:\n",
    "        count[x] = count.get(x, 0) + 1\n",
    "    return max(count, key=count.get)\n",
    "print(dofigachasto(A))"
   ]
  },
  {
   "cell_type": "code",
   "execution_count": 7,
   "id": "ef43f92d",
   "metadata": {},
   "outputs": [
    {
     "name": "stdout",
     "output_type": "stream",
     "text": [
      "3\n"
     ]
    }
   ],
   "source": [
    "#Упражнение 8\n",
    "n=int(input())\n",
    "A=[0]*n\n",
    "for i in range(len(A)):\n",
    "    A[i]=int(input())\n",
    "def seredina(arr, k):\n",
    "    if len(arr) == 1:\n",
    "        return arr[0]\n",
    "    \n",
    "    pivot = arr[len(arr) // 2]\n",
    "  \n",
    "    left = [x for x in arr if x < pivot]\n",
    "    middle = [x for x in arr if x == pivot]\n",
    "    right = [x for x in arr if x > pivot]\n",
    "    \n",
    "    if k < len(left):\n",
    "        return seredina(left, k)\n",
    "    elif k < len(left) + len(middle):\n",
    "        return middle[0]\n",
    "    else:\n",
    "        return seredina(right, k - len(left) - len(middle))\n",
    "\n",
    "\n",
    "median = seredina(A, n // 2)\n",
    "\n",
    "print(median)"
   ]
  }
 ],
 "metadata": {
  "kernelspec": {
   "display_name": "Python 3",
   "language": "python",
   "name": "python3"
  },
  "language_info": {
   "codemirror_mode": {
    "name": "ipython",
    "version": 3
   },
   "file_extension": ".py",
   "mimetype": "text/x-python",
   "name": "python",
   "nbconvert_exporter": "python",
   "pygments_lexer": "ipython3",
   "version": "3.13.7"
  }
 },
 "nbformat": 4,
 "nbformat_minor": 5
}
