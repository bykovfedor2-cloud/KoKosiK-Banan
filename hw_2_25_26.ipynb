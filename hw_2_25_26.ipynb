{
 "cells": [
  {
   "cell_type": "code",
   "execution_count": 11,
   "id": "7c00567f",
   "metadata": {},
   "outputs": [
    {
     "name": "stdout",
     "output_type": "stream",
     "text": [
      "0\n"
     ]
    }
   ],
   "source": [
    "### Упражнение 3.3. Предложения\n",
    "with open('input.txt', 'r', encoding='utf-8') as file:\n",
    "    text = file.read()\n",
    "\n",
    "sentence_count = 0\n",
    "inside_sentence = False\n",
    "\n",
    "for char in text:\n",
    "    if char.isalpha():  \n",
    "        inside_sentence = True\n",
    "    elif char in '.!?' and inside_sentence:\n",
    "        sentence_count += 1\n",
    "        inside_sentence = False\n",
    "\n",
    "if inside_sentence:\n",
    "    sentence_count += 1\n",
    "\n",
    "print(sentence_count)"
   ]
  },
  {
   "cell_type": "code",
   "execution_count": 28,
   "id": "b4df414d",
   "metadata": {},
   "outputs": [
    {
     "name": "stdout",
     "output_type": "stream",
     "text": [
      "Число 8 найдено на позиции 3 \n"
     ]
    }
   ],
   "source": [
    "#Задание №1.3\n",
    "def find_position(A, x):\n",
    "    for i in range(len(arr)):\n",
    "        if arr[i] == x:\n",
    "            return i\n",
    "    return -1\n",
    "A = [5, 2, 8, 1, 9, 3, 8]\n",
    "x = 8\n",
    "\n",
    "position = find_position(A, x)\n",
    "\n",
    "if position != -1:\n",
    "    print(f\"Число {x} найдено на позиции {position+1} \")\n",
    "else:\n",
    "    print(f\"Число {x} не найдено в массиве\")"
   ]
  },
  {
   "cell_type": "code",
   "execution_count": 30,
   "id": "bdacd57b",
   "metadata": {},
   "outputs": [
    {
     "name": "stdout",
     "output_type": "stream",
     "text": [
      "{2: 2, 3: 1}\n"
     ]
    }
   ],
   "source": [
    "#Задание №1.4\n",
    "n = int(input())\n",
    "def factorize(n):\n",
    "\n",
    "    if n < 2:\n",
    "        return {n: 1}\n",
    "    \n",
    "    factors = {}\n",
    "    divisor = 2\n",
    "    \n",
    "    while divisor * divisor <= n:\n",
    "        while n % divisor == 0:\n",
    "            factors[divisor] = factors.get(divisor, 0) + 1\n",
    "            n //= divisor\n",
    "        divisor += 1\n",
    "    \n",
    "    if n > 1:\n",
    "        factors[n] = factors.get(n, 0) + 1\n",
    "    \n",
    "    return factors\n",
    "print(factorize(n))"
   ]
  }
 ],
 "metadata": {
  "kernelspec": {
   "display_name": "Python 3",
   "language": "python",
   "name": "python3"
  },
  "language_info": {
   "codemirror_mode": {
    "name": "ipython",
    "version": 3
   },
   "file_extension": ".py",
   "mimetype": "text/x-python",
   "name": "python",
   "nbconvert_exporter": "python",
   "pygments_lexer": "ipython3",
   "version": "3.13.7"
  }
 },
 "nbformat": 4,
 "nbformat_minor": 5
}
